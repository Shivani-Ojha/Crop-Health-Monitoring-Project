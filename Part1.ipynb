{
 "cells": [
  {
   "cell_type": "code",
   "execution_count": 1,
   "id": "8f2bde7c",
   "metadata": {},
   "outputs": [
    {
     "name": "stderr",
     "output_type": "stream",
     "text": [
      "D:\\python\\lib\\site-packages\\scipy\\__init__.py:146: UserWarning: A NumPy version >=1.16.5 and <1.23.0 is required for this version of SciPy (detected version 1.26.2\n",
      "  warnings.warn(f\"A NumPy version >={np_minversion} and <{np_maxversion}\"\n"
     ]
    }
   ],
   "source": [
    "import tensorflow as tf\n",
    "import matplotlib.pyplot as plt\n",
    "import pandas as pd\n",
    "import seaborn as sns"
   ]
  },
  {
   "cell_type": "code",
   "execution_count": 2,
   "id": "ef1d6138",
   "metadata": {},
   "outputs": [
    {
     "name": "stdout",
     "output_type": "stream",
     "text": [
      "Found 3251 files belonging to 3 classes.\n"
     ]
    }
   ],
   "source": [
    "training_set = tf.keras.utils.image_dataset_from_directory(\n",
    "    \"PLD_3_Classes_256/Training\",\n",
    "    labels=\"inferred\",\n",
    "    label_mode=\"categorical\",\n",
    "    class_names=None,\n",
    "    color_mode=\"rgb\",\n",
    "    batch_size=32,\n",
    "    image_size=(128, 128),\n",
    "    shuffle=True,\n",
    "    seed=None,\n",
    "    validation_split=None,\n",
    "    subset=None,\n",
    "    interpolation=\"bilinear\",\n",
    "    follow_links=False,\n",
    "    crop_to_aspect_ratio=False,\n",
    ")"
   ]
  },
  {
   "cell_type": "code",
   "execution_count": 3,
   "id": "17367a75",
   "metadata": {},
   "outputs": [
    {
     "name": "stdout",
     "output_type": "stream",
     "text": [
      "Found 416 files belonging to 3 classes.\n"
     ]
    }
   ],
   "source": [
    "validation_set = tf.keras.utils.image_dataset_from_directory(\n",
    "    \"PLD_3_Classes_256/Validation\",\n",
    "    labels=\"inferred\",\n",
    "    label_mode=\"categorical\",\n",
    "    class_names=None,\n",
    "    color_mode=\"rgb\",\n",
    "    batch_size=32,\n",
    "    image_size=(128, 128),\n",
    "    shuffle=True,\n",
    "    seed=None,\n",
    "    validation_split=None,\n",
    "    subset=None,\n",
    "    interpolation=\"bilinear\",\n",
    "    follow_links=False,\n",
    "    crop_to_aspect_ratio=False,\n",
    ")"
   ]
  },
  {
   "cell_type": "code",
   "execution_count": 4,
   "id": "d97c09e1",
   "metadata": {},
   "outputs": [
    {
     "data": {
      "text/plain": [
       "<_PrefetchDataset element_spec=(TensorSpec(shape=(None, 128, 128, 3), dtype=tf.float32, name=None), TensorSpec(shape=(None, 3), dtype=tf.float32, name=None))>"
      ]
     },
     "execution_count": 4,
     "metadata": {},
     "output_type": "execute_result"
    }
   ],
   "source": [
    "training_set"
   ]
  },
  {
   "cell_type": "code",
   "execution_count": 5,
   "id": "fc3610b3",
   "metadata": {},
   "outputs": [
    {
     "data": {
      "text/plain": [
       "<_PrefetchDataset element_spec=(TensorSpec(shape=(None, 128, 128, 3), dtype=tf.float32, name=None), TensorSpec(shape=(None, 3), dtype=tf.float32, name=None))>"
      ]
     },
     "execution_count": 5,
     "metadata": {},
     "output_type": "execute_result"
    }
   ],
   "source": [
    "validation_set"
   ]
  },
  {
   "cell_type": "code",
   "execution_count": 6,
   "id": "d3f7d8fb",
   "metadata": {},
   "outputs": [
    {
     "name": "stdout",
     "output_type": "stream",
     "text": [
      "tf.Tensor(\n",
      "[[[[184.   200.   213.  ]\n",
      "   [184.   200.   213.  ]\n",
      "   [184.   200.   213.  ]\n",
      "   ...\n",
      "   [216.   232.   248.  ]\n",
      "   [217.   233.   249.  ]\n",
      "   [217.5  233.5  249.5 ]]\n",
      "\n",
      "  [[184.   200.   213.  ]\n",
      "   [184.   200.   213.  ]\n",
      "   [184.   200.   213.  ]\n",
      "   ...\n",
      "   [216.   232.   248.  ]\n",
      "   [217.   233.   249.  ]\n",
      "   [217.5  233.5  249.5 ]]\n",
      "\n",
      "  [[184.   200.   213.  ]\n",
      "   [184.   200.   213.  ]\n",
      "   [184.   200.   213.  ]\n",
      "   ...\n",
      "   [216.   232.   248.  ]\n",
      "   [217.   233.   249.  ]\n",
      "   [217.5  233.5  249.5 ]]\n",
      "\n",
      "  ...\n",
      "\n",
      "  [[194.   210.   225.  ]\n",
      "   [194.   210.   225.  ]\n",
      "   [194.   210.   225.  ]\n",
      "   ...\n",
      "   [214.   227.   236.  ]\n",
      "   [213.   226.   235.  ]\n",
      "   [212.5  225.5  234.5 ]]\n",
      "\n",
      "  [[194.   210.   225.  ]\n",
      "   [194.   210.   225.  ]\n",
      "   [194.   210.   225.  ]\n",
      "   ...\n",
      "   [214.   227.   236.  ]\n",
      "   [213.   226.   235.  ]\n",
      "   [212.5  225.5  234.5 ]]\n",
      "\n",
      "  [[194.   210.   225.  ]\n",
      "   [194.   210.   225.  ]\n",
      "   [194.   210.   225.  ]\n",
      "   ...\n",
      "   [214.   227.   236.  ]\n",
      "   [213.   226.   235.  ]\n",
      "   [212.5  225.5  234.5 ]]]\n",
      "\n",
      "\n",
      " [[[216.   231.   254.  ]\n",
      "   [216.   231.   254.  ]\n",
      "   [216.   231.   254.  ]\n",
      "   ...\n",
      "   [211.5  225.5  252.5 ]\n",
      "   [211.5  225.5  252.5 ]\n",
      "   [211.5  225.5  252.5 ]]\n",
      "\n",
      "  [[216.   231.   254.  ]\n",
      "   [216.   231.   254.  ]\n",
      "   [216.   231.   254.  ]\n",
      "   ...\n",
      "   [211.   225.   252.  ]\n",
      "   [211.   225.   252.  ]\n",
      "   [211.   225.   252.  ]]\n",
      "\n",
      "  [[216.   231.   254.  ]\n",
      "   [216.   231.   254.  ]\n",
      "   [216.   231.   254.  ]\n",
      "   ...\n",
      "   [210.   224.   253.  ]\n",
      "   [210.   224.   253.  ]\n",
      "   [210.   224.   253.  ]]\n",
      "\n",
      "  ...\n",
      "\n",
      "  [[166.   179.   213.  ]\n",
      "   [166.   179.   213.  ]\n",
      "   [166.   179.   213.  ]\n",
      "   ...\n",
      "   [170.   183.   215.  ]\n",
      "   [170.   183.   215.  ]\n",
      "   [170.   183.   215.  ]]\n",
      "\n",
      "  [[165.   178.   212.  ]\n",
      "   [165.   178.   212.  ]\n",
      "   [165.   178.   212.  ]\n",
      "   ...\n",
      "   [169.   182.   214.  ]\n",
      "   [169.   182.   214.  ]\n",
      "   [169.   182.   214.  ]]\n",
      "\n",
      "  [[164.5  177.5  211.5 ]\n",
      "   [164.5  177.5  211.5 ]\n",
      "   [164.5  177.5  211.5 ]\n",
      "   ...\n",
      "   [168.5  181.5  213.5 ]\n",
      "   [168.5  181.5  213.5 ]\n",
      "   [168.5  181.5  213.5 ]]]\n",
      "\n",
      "\n",
      " [[[181.   181.   169.  ]\n",
      "   [180.   180.   168.  ]\n",
      "   [180.   180.   168.  ]\n",
      "   ...\n",
      "   [228.   225.   216.  ]\n",
      "   [228.   225.   216.  ]\n",
      "   [228.   225.   216.  ]]\n",
      "\n",
      "  [[181.75 181.75 169.75]\n",
      "   [180.75 180.75 168.75]\n",
      "   [180.75 180.75 168.75]\n",
      "   ...\n",
      "   [228.   225.   216.  ]\n",
      "   [228.   225.   216.  ]\n",
      "   [228.   225.   216.  ]]\n",
      "\n",
      "  [[182.5  182.5  170.5 ]\n",
      "   [181.25 181.25 169.25]\n",
      "   [181.25 181.25 169.25]\n",
      "   ...\n",
      "   [228.   225.   216.  ]\n",
      "   [228.   225.   216.  ]\n",
      "   [228.   225.   216.  ]]\n",
      "\n",
      "  ...\n",
      "\n",
      "  [[159.   160.   146.  ]\n",
      "   [159.75 160.75 146.75]\n",
      "   [159.75 160.75 146.75]\n",
      "   ...\n",
      "   [203.   201.   189.  ]\n",
      "   [203.   201.   189.  ]\n",
      "   [200.75 198.75 186.75]]\n",
      "\n",
      "  [[158.   159.   145.  ]\n",
      "   [157.25 158.25 144.25]\n",
      "   [157.25 158.25 144.25]\n",
      "   ...\n",
      "   [201.5  199.5  187.5 ]\n",
      "   [201.5  199.5  187.5 ]\n",
      "   [201.   199.   187.  ]]\n",
      "\n",
      "  [[157.5  158.5  144.5 ]\n",
      "   [155.5  156.5  142.5 ]\n",
      "   [155.5  156.5  142.5 ]\n",
      "   ...\n",
      "   [200.   198.   186.  ]\n",
      "   [200.   198.   186.  ]\n",
      "   [201.   199.   187.  ]]]\n",
      "\n",
      "\n",
      " ...\n",
      "\n",
      "\n",
      " [[[198.75 201.75 244.75]\n",
      "   [202.25 205.25 248.25]\n",
      "   [203.   206.   249.  ]\n",
      "   ...\n",
      "   [157.5  162.5  204.5 ]\n",
      "   [157.5  162.5  204.5 ]\n",
      "   [157.5  162.5  204.5 ]]\n",
      "\n",
      "  [[195.75 198.75 241.75]\n",
      "   [197.25 200.25 243.25]\n",
      "   [198.   201.   244.  ]\n",
      "   ...\n",
      "   [155.5  160.5  202.5 ]\n",
      "   [155.5  160.5  202.5 ]\n",
      "   [155.5  160.5  202.5 ]]\n",
      "\n",
      "  [[194.5  197.5  240.5 ]\n",
      "   [192.25 195.25 238.25]\n",
      "   [193.   196.   239.  ]\n",
      "   ...\n",
      "   [155.5  160.5  202.5 ]\n",
      "   [155.5  160.5  202.5 ]\n",
      "   [155.5  160.5  202.5 ]]\n",
      "\n",
      "  ...\n",
      "\n",
      "  [[173.5  170.5  200.  ]\n",
      "   [184.5  179.75 209.  ]\n",
      "   [187.75 181.5  210.25]\n",
      "   ...\n",
      "   [152.5  157.5  199.5 ]\n",
      "   [150.   155.   197.  ]\n",
      "   [149.   154.   196.  ]]\n",
      "\n",
      "  [[168.75 164.75 191.75]\n",
      "   [178.5  172.5  200.5 ]\n",
      "   [182.25 173.25 200.75]\n",
      "   ...\n",
      "   [152.   157.   199.  ]\n",
      "   [150.75 155.75 197.75]\n",
      "   [150.   155.   197.  ]]\n",
      "\n",
      "  [[173.25 167.25 195.25]\n",
      "   [176.5  167.5  194.5 ]\n",
      "   [172.75 163.75 190.75]\n",
      "   ...\n",
      "   [150.   155.   197.  ]\n",
      "   [149.5  154.5  196.5 ]\n",
      "   [149.   154.   196.  ]]]\n",
      "\n",
      "\n",
      " [[[180.   179.   187.  ]\n",
      "   [180.5  179.5  187.5 ]\n",
      "   [179.5  178.5  186.5 ]\n",
      "   ...\n",
      "   [214.   217.   224.  ]\n",
      "   [215.   218.   225.  ]\n",
      "   [215.5  218.5  225.5 ]]\n",
      "\n",
      "  [[180.   179.   187.  ]\n",
      "   [180.5  179.5  187.5 ]\n",
      "   [179.5  178.5  186.5 ]\n",
      "   ...\n",
      "   [214.   217.   224.  ]\n",
      "   [215.   218.   225.  ]\n",
      "   [215.5  218.5  225.5 ]]\n",
      "\n",
      "  [[180.   179.   187.  ]\n",
      "   [180.5  179.5  187.5 ]\n",
      "   [179.5  178.5  186.5 ]\n",
      "   ...\n",
      "   [214.   217.   224.  ]\n",
      "   [215.   218.   225.  ]\n",
      "   [215.5  218.5  225.5 ]]\n",
      "\n",
      "  ...\n",
      "\n",
      "  [[185.   184.   192.  ]\n",
      "   [183.5  182.5  190.5 ]\n",
      "   [185.5  184.5  192.5 ]\n",
      "   ...\n",
      "   [216.   220.   229.  ]\n",
      "   [214.5  218.5  227.5 ]\n",
      "   [212.5  216.5  225.5 ]]\n",
      "\n",
      "  [[185.   184.   192.  ]\n",
      "   [183.5  182.5  190.5 ]\n",
      "   [185.5  184.5  192.5 ]\n",
      "   ...\n",
      "   [215.   219.   228.  ]\n",
      "   [214.75 218.75 227.75]\n",
      "   [213.75 217.75 226.75]]\n",
      "\n",
      "  [[185.   184.   192.  ]\n",
      "   [183.5  182.5  190.5 ]\n",
      "   [185.5  184.5  192.5 ]\n",
      "   ...\n",
      "   [215.   219.   228.  ]\n",
      "   [215.   219.   228.  ]\n",
      "   [214.25 218.25 227.25]]]\n",
      "\n",
      "\n",
      " [[[205.   212.   218.  ]\n",
      "   [205.   212.   218.  ]\n",
      "   [205.   212.   218.  ]\n",
      "   ...\n",
      "   [203.5  210.5  218.5 ]\n",
      "   [203.25 210.25 218.25]\n",
      "   [203.5  210.5  218.5 ]]\n",
      "\n",
      "  [[205.   212.   218.  ]\n",
      "   [205.   212.   218.  ]\n",
      "   [205.   212.   218.  ]\n",
      "   ...\n",
      "   [204.25 211.25 219.25]\n",
      "   [203.5  210.5  218.5 ]\n",
      "   [204.25 211.25 219.25]]\n",
      "\n",
      "  [[205.   212.   218.  ]\n",
      "   [205.   212.   218.  ]\n",
      "   [205.   212.   218.  ]\n",
      "   ...\n",
      "   [204.25 211.25 219.25]\n",
      "   [203.5  210.5  218.5 ]\n",
      "   [204.25 211.25 219.25]]\n",
      "\n",
      "  ...\n",
      "\n",
      "  [[167.   170.   179.  ]\n",
      "   [166.75 169.75 178.75]\n",
      "   [165.75 168.75 177.75]\n",
      "   ...\n",
      "   [158.   160.   173.  ]\n",
      "   [158.   160.   173.  ]\n",
      "   [158.   160.   173.  ]]\n",
      "\n",
      "  [[168.   171.   180.  ]\n",
      "   [167.25 170.25 179.25]\n",
      "   [166.75 169.75 178.75]\n",
      "   ...\n",
      "   [158.   160.   173.  ]\n",
      "   [158.   160.   173.  ]\n",
      "   [158.   160.   173.  ]]\n",
      "\n",
      "  [[168.25 171.25 180.25]\n",
      "   [168.   171.   180.  ]\n",
      "   [167.   170.   179.  ]\n",
      "   ...\n",
      "   [158.   160.   173.  ]\n",
      "   [158.   160.   173.  ]\n",
      "   [158.   160.   173.  ]]]], shape=(32, 128, 128, 3), dtype=float32) (32, 128, 128, 3)\n",
      "tf.Tensor(\n",
      "[[0. 0. 1.]\n",
      " [0. 0. 1.]\n",
      " [1. 0. 0.]\n",
      " [0. 0. 1.]\n",
      " [0. 1. 0.]\n",
      " [0. 1. 0.]\n",
      " [0. 0. 1.]\n",
      " [1. 0. 0.]\n",
      " [1. 0. 0.]\n",
      " [0. 0. 1.]\n",
      " [0. 0. 1.]\n",
      " [1. 0. 0.]\n",
      " [0. 0. 1.]\n",
      " [1. 0. 0.]\n",
      " [0. 0. 1.]\n",
      " [1. 0. 0.]\n",
      " [0. 0. 1.]\n",
      " [0. 0. 1.]\n",
      " [0. 0. 1.]\n",
      " [0. 0. 1.]\n",
      " [1. 0. 0.]\n",
      " [1. 0. 0.]\n",
      " [0. 1. 0.]\n",
      " [1. 0. 0.]\n",
      " [0. 0. 1.]\n",
      " [0. 0. 1.]\n",
      " [1. 0. 0.]\n",
      " [0. 0. 1.]\n",
      " [0. 0. 1.]\n",
      " [1. 0. 0.]\n",
      " [0. 0. 1.]\n",
      " [1. 0. 0.]], shape=(32, 3), dtype=float32) (32, 3)\n"
     ]
    }
   ],
   "source": [
    "for x,y in training_set:\n",
    "    print(x,x.shape)\n",
    "    print(y,y.shape)\n",
    "    break"
   ]
  },
  {
   "cell_type": "markdown",
   "id": "74913c0e",
   "metadata": {},
   "source": [
    "### to avoid overshooting\n",
    "1. choose small learning rate default 0.001 we are taking 0.0001\n",
    "2. There may be chance of underfitting, so increases number of neuron\n",
    "3. Add more Convolution layer to extract more feature from images there may be possibility that model unable to capture relevant feature or model is confusing due to lack of feature so feed with more feature"
   ]
  },
  {
   "cell_type": "markdown",
   "id": "a6b606bc",
   "metadata": {},
   "source": [
    "## Model Building"
   ]
  },
  {
   "cell_type": "code",
   "execution_count": 7,
   "id": "d86f182f",
   "metadata": {},
   "outputs": [],
   "source": [
    "from tensorflow.keras.layers import Dense,Conv2D,MaxPool2D,Flatten,Dropout\n",
    "from tensorflow.keras.models import Sequential"
   ]
  },
  {
   "cell_type": "code",
   "execution_count": 8,
   "id": "4906bcde",
   "metadata": {},
   "outputs": [],
   "source": [
    "model = Sequential()"
   ]
  },
  {
   "cell_type": "code",
   "execution_count": 9,
   "id": "dbbc3a0d",
   "metadata": {},
   "outputs": [],
   "source": [
    "model.add(Conv2D(filters=32,kernel_size=3,padding=\"same\",activation=\"relu\",input_shape=[128,128,3]))\n",
    "model.add(Conv2D(filters=32,kernel_size=3,activation=\"relu\"))\n",
    "model.add(MaxPool2D(pool_size=2,strides=2))"
   ]
  },
  {
   "cell_type": "code",
   "execution_count": 10,
   "id": "cb822278",
   "metadata": {},
   "outputs": [],
   "source": [
    "model.add(Conv2D(filters=64,kernel_size=3,padding=\"same\",activation=\"relu\"))\n",
    "model.add(Conv2D(filters=64,kernel_size=3,activation=\"relu\"))\n",
    "model.add(MaxPool2D(pool_size=2,strides=2))"
   ]
  },
  {
   "cell_type": "code",
   "execution_count": 11,
   "id": "4fc70a8b",
   "metadata": {},
   "outputs": [],
   "source": [
    "model.add(Conv2D(filters=128,kernel_size=3,padding=\"same\",activation=\"relu\"))\n",
    "model.add(Conv2D(filters=128,kernel_size=3,padding=\"same\",activation=\"relu\"))\n",
    "model.add(MaxPool2D(pool_size=2,strides=2))"
   ]
  },
  {
   "cell_type": "code",
   "execution_count": 12,
   "id": "7e532009",
   "metadata": {},
   "outputs": [],
   "source": [
    "model.add(Conv2D(filters=256,kernel_size=3,padding=\"same\",activation=\"relu\"))\n",
    "model.add(Conv2D(filters=256,kernel_size=3,padding=\"same\",activation=\"relu\"))\n",
    "model.add(MaxPool2D(pool_size=2,strides=2))"
   ]
  },
  {
   "cell_type": "code",
   "execution_count": 13,
   "id": "e64d3bbf",
   "metadata": {},
   "outputs": [],
   "source": [
    "model.add(Conv2D(filters=512,kernel_size=3,padding=\"same\",activation=\"relu\"))\n",
    "model.add(Conv2D(filters=512,kernel_size=3,padding=\"same\",activation=\"relu\"))\n",
    "model.add(MaxPool2D(pool_size=2,strides=2))"
   ]
  },
  {
   "cell_type": "code",
   "execution_count": 14,
   "id": "97ed8bb1",
   "metadata": {},
   "outputs": [],
   "source": [
    "model.add(Dropout(0.25)) #to avoid overfitting"
   ]
  },
  {
   "cell_type": "code",
   "execution_count": 15,
   "id": "49a39356",
   "metadata": {},
   "outputs": [],
   "source": [
    "model.add(Flatten())\n",
    "model.add(Dense(units=1500,activation=\"relu\"))"
   ]
  },
  {
   "cell_type": "code",
   "execution_count": 16,
   "id": "d59b7409",
   "metadata": {},
   "outputs": [],
   "source": [
    "model.add(Dropout(0.4)) #to avoid overfitting"
   ]
  },
  {
   "cell_type": "code",
   "execution_count": 17,
   "id": "8fb7b3ae",
   "metadata": {},
   "outputs": [],
   "source": [
    "#output layer\n",
    "model.add(Dense(units=3,activation=\"softmax\"))"
   ]
  },
  {
   "cell_type": "markdown",
   "id": "38ea86d5",
   "metadata": {},
   "source": [
    "## Compiling Model"
   ]
  },
  {
   "cell_type": "code",
   "execution_count": 18,
   "id": "6419777a",
   "metadata": {},
   "outputs": [],
   "source": [
    "model.compile(optimizer=tf.keras.optimizers.Adam(\n",
    "    learning_rate=0.001),loss = \"categorical_crossentropy\",metrics = [\"accuracy\"])"
   ]
  },
  {
   "cell_type": "code",
   "execution_count": 19,
   "id": "dc2c5d37",
   "metadata": {},
   "outputs": [
    {
     "name": "stdout",
     "output_type": "stream",
     "text": [
      "Model: \"sequential\"\n",
      "_________________________________________________________________\n",
      " Layer (type)                Output Shape              Param #   \n",
      "=================================================================\n",
      " conv2d (Conv2D)             (None, 128, 128, 32)      896       \n",
      "                                                                 \n",
      " conv2d_1 (Conv2D)           (None, 126, 126, 32)      9248      \n",
      "                                                                 \n",
      " max_pooling2d (MaxPooling2  (None, 63, 63, 32)        0         \n",
      " D)                                                              \n",
      "                                                                 \n",
      " conv2d_2 (Conv2D)           (None, 63, 63, 64)        18496     \n",
      "                                                                 \n",
      " conv2d_3 (Conv2D)           (None, 61, 61, 64)        36928     \n",
      "                                                                 \n",
      " max_pooling2d_1 (MaxPoolin  (None, 30, 30, 64)        0         \n",
      " g2D)                                                            \n",
      "                                                                 \n",
      " conv2d_4 (Conv2D)           (None, 30, 30, 128)       73856     \n",
      "                                                                 \n",
      " conv2d_5 (Conv2D)           (None, 30, 30, 128)       147584    \n",
      "                                                                 \n",
      " max_pooling2d_2 (MaxPoolin  (None, 15, 15, 128)       0         \n",
      " g2D)                                                            \n",
      "                                                                 \n",
      " conv2d_6 (Conv2D)           (None, 15, 15, 256)       295168    \n",
      "                                                                 \n",
      " conv2d_7 (Conv2D)           (None, 15, 15, 256)       590080    \n",
      "                                                                 \n",
      " max_pooling2d_3 (MaxPoolin  (None, 7, 7, 256)         0         \n",
      " g2D)                                                            \n",
      "                                                                 \n",
      " conv2d_8 (Conv2D)           (None, 7, 7, 512)         1180160   \n",
      "                                                                 \n",
      " conv2d_9 (Conv2D)           (None, 7, 7, 512)         2359808   \n",
      "                                                                 \n",
      " max_pooling2d_4 (MaxPoolin  (None, 3, 3, 512)         0         \n",
      " g2D)                                                            \n",
      "                                                                 \n",
      " dropout (Dropout)           (None, 3, 3, 512)         0         \n",
      "                                                                 \n",
      " flatten (Flatten)           (None, 4608)              0         \n",
      "                                                                 \n",
      " dense (Dense)               (None, 1500)              6913500   \n",
      "                                                                 \n",
      " dropout_1 (Dropout)         (None, 1500)              0         \n",
      "                                                                 \n",
      " dense_1 (Dense)             (None, 3)                 4503      \n",
      "                                                                 \n",
      "=================================================================\n",
      "Total params: 11630227 (44.37 MB)\n",
      "Trainable params: 11630227 (44.37 MB)\n",
      "Non-trainable params: 0 (0.00 Byte)\n",
      "_________________________________________________________________\n"
     ]
    }
   ],
   "source": [
    "model.summary()"
   ]
  },
  {
   "cell_type": "markdown",
   "id": "b54bc7ce",
   "metadata": {},
   "source": [
    "## Model Training"
   ]
  },
  {
   "cell_type": "code",
   "execution_count": 20,
   "id": "22a0a1c8",
   "metadata": {},
   "outputs": [
    {
     "name": "stdout",
     "output_type": "stream",
     "text": [
      "Epoch 1/5\n",
      "102/102 [==============================] - 222s 2s/step - loss: 1.3972 - accuracy: 0.4180 - val_loss: 0.9254 - val_accuracy: 0.6274\n",
      "Epoch 2/5\n",
      "102/102 [==============================] - 390s 4s/step - loss: 0.7714 - accuracy: 0.6770 - val_loss: 0.5966 - val_accuracy: 0.7212\n",
      "Epoch 3/5\n",
      "102/102 [==============================] - 634s 6s/step - loss: 0.5375 - accuracy: 0.7976 - val_loss: 0.4922 - val_accuracy: 0.8269\n",
      "Epoch 4/5\n",
      "102/102 [==============================] - 610s 6s/step - loss: 0.3840 - accuracy: 0.8517 - val_loss: 0.3622 - val_accuracy: 0.8534\n",
      "Epoch 5/5\n",
      "102/102 [==============================] - 237s 2s/step - loss: 0.3208 - accuracy: 0.8794 - val_loss: 0.2922 - val_accuracy: 0.8894\n"
     ]
    }
   ],
   "source": [
    "training_history = model.fit(x=training_set,validation_data = validation_set ,epochs=5,batch_size=64)"
   ]
  },
  {
   "cell_type": "markdown",
   "id": "8f407a92",
   "metadata": {},
   "source": [
    "## Mdoel Evaluation"
   ]
  },
  {
   "cell_type": "code",
   "execution_count": 21,
   "id": "f2fe987b",
   "metadata": {},
   "outputs": [
    {
     "name": "stdout",
     "output_type": "stream",
     "text": [
      "102/102 [==============================] - 42s 409ms/step - loss: 0.2611 - accuracy: 0.9074\n"
     ]
    }
   ],
   "source": [
    "#Model Evaluation on training set\n",
    "train_loss,train_acc = model.evaluate(training_set)"
   ]
  },
  {
   "cell_type": "code",
   "execution_count": 22,
   "id": "d0f84aad",
   "metadata": {},
   "outputs": [
    {
     "name": "stdout",
     "output_type": "stream",
     "text": [
      "0.2610885500907898 0.907413125038147\n"
     ]
    }
   ],
   "source": [
    "print(train_loss,train_acc)"
   ]
  },
  {
   "cell_type": "markdown",
   "id": "36743a6b",
   "metadata": {},
   "source": [
    "## Saving Model"
   ]
  },
  {
   "cell_type": "code",
   "execution_count": 23,
   "id": "b2150f89",
   "metadata": {},
   "outputs": [
    {
     "name": "stderr",
     "output_type": "stream",
     "text": [
      "D:\\python\\lib\\site-packages\\keras\\src\\engine\\training.py:3079: UserWarning: You are saving your model as an HDF5 file via `model.save()`. This file format is considered legacy. We recommend using instead the native Keras format, e.g. `model.save('my_model.keras')`.\n",
      "  saving_api.save_model(\n"
     ]
    }
   ],
   "source": [
    "model.save(\"trained_model.h5\")"
   ]
  },
  {
   "cell_type": "code",
   "execution_count": 24,
   "id": "8dc2d631",
   "metadata": {},
   "outputs": [],
   "source": [
    "model.save(\"trained_model.keras\")"
   ]
  },
  {
   "cell_type": "code",
   "execution_count": 25,
   "id": "95134889",
   "metadata": {},
   "outputs": [
    {
     "data": {
      "text/plain": [
       "{'loss': [1.397167444229126,\n",
       "  0.7713753581047058,\n",
       "  0.5374636650085449,\n",
       "  0.38403016328811646,\n",
       "  0.32082000374794006],\n",
       " 'accuracy': [0.4180252254009247,\n",
       "  0.6770224571228027,\n",
       "  0.7976007461547852,\n",
       "  0.851737916469574,\n",
       "  0.8794217109680176],\n",
       " 'val_loss': [0.9253542423248291,\n",
       "  0.5965977311134338,\n",
       "  0.49221163988113403,\n",
       "  0.3622322380542755,\n",
       "  0.2921588718891144],\n",
       " 'val_accuracy': [0.6274038553237915,\n",
       "  0.7211538553237915,\n",
       "  0.8269230723381042,\n",
       "  0.8533653616905212,\n",
       "  0.8894230723381042]}"
      ]
     },
     "execution_count": 25,
     "metadata": {},
     "output_type": "execute_result"
    }
   ],
   "source": [
    "training_history.history"
   ]
  },
  {
   "cell_type": "code",
   "execution_count": 26,
   "id": "3af7150b",
   "metadata": {},
   "outputs": [],
   "source": [
    "#recording history in json\n",
    "import json \n",
    "with open(\"training_hist.json\",\"w\") as f:\n",
    "    json.dump(training_history.history,f)"
   ]
  },
  {
   "cell_type": "markdown",
   "id": "4ec0ea2d",
   "metadata": {},
   "source": [
    "## Accuracy Visualization"
   ]
  },
  {
   "cell_type": "code",
   "execution_count": 27,
   "id": "5be66060",
   "metadata": {},
   "outputs": [
    {
     "data": {
      "image/png": "[encoded data removed]",
      "text/plain": [
       "<Figure size 432x288 with 1 Axes>"
      ]
     },
     "metadata": {
      "needs_background": "light"
     },
     "output_type": "display_data"
    }
   ],
   "source": [
    "epochs = [i for i in range(1,6)]\n",
    "plt.plot(epochs,training_history.history['accuracy'],color = \"red\",label=\"Train\")\n",
    "plt.plot(epochs,training_history.history['val_accuracy'],color = \"blue\",label=\"Train\")\n",
    "plt.show()"
   ]
  },
  {
   "cell_type": "markdown",
   "id": "e5a33cd4",
   "metadata": {},
   "source": [
    "## Some other metics for model evaluationm"
   ]
  },
  {
   "cell_type": "code",
   "execution_count": 28,
   "id": "c9f61e1b",
   "metadata": {},
   "outputs": [
    {
     "data": {
      "text/plain": [
       "['Early_Blight', 'Healthy', 'Late_Blight']"
      ]
     },
     "execution_count": 28,
     "metadata": {},
     "output_type": "execute_result"
    }
   ],
   "source": [
    "class_name = validation_set.class_names\n",
    "class_name"
   ]
  },
  {
   "cell_type": "code",
   "execution_count": 29,
   "id": "47b7565f",
   "metadata": {},
   "outputs": [
    {
     "name": "stdout",
     "output_type": "stream",
     "text": [
      "Found 405 files belonging to 3 classes.\n"
     ]
    }
   ],
   "source": [
    "test_set = tf.keras.utils.image_dataset_from_directory(\n",
    "    \"PLD_3_Classes_256/Testing\",\n",
    "    labels=\"inferred\",\n",
    "    label_mode=\"categorical\",\n",
    "    class_names=None,\n",
    "    color_mode=\"rgb\",\n",
    "    batch_size=32,\n",
    "    image_size=(128, 128),\n",
    "    shuffle=False,\n",
    "    seed=None,\n",
    "    validation_split=None,\n",
    "    subset=None,\n",
    "    interpolation=\"bilinear\",\n",
    "    follow_links=False,\n",
    "    crop_to_aspect_ratio=False,\n",
    ")"
   ]
  },
  {
   "cell_type": "code",
   "execution_count": 30,
   "id": "71a91d3c",
   "metadata": {},
   "outputs": [
    {
     "name": "stdout",
     "output_type": "stream",
     "text": [
      "13/13 [==============================] - 6s 398ms/step\n"
     ]
    }
   ],
   "source": [
    "y_pred = model.predict(test_set)"
   ]
  },
  {
   "cell_type": "code",
   "execution_count": 31,
   "id": "ac087fd5",
   "metadata": {},
   "outputs": [
    {
     "data": {
      "text/plain": [
       "(array([[2.1663983e-01, 7.5696832e-01, 2.6391804e-02],\n",
       "        [9.6718574e-01, 2.2027869e-02, 1.0786464e-02],\n",
       "        [9.1142273e-01, 4.4820454e-02, 4.3756843e-02],\n",
       "        ...,\n",
       "        [8.0802958e-05, 6.3508181e-09, 9.9991918e-01],\n",
       "        [4.8825459e-05, 8.2745877e-10, 9.9995112e-01],\n",
       "        [5.9284493e-03, 5.2070195e-06, 9.9406636e-01]], dtype=float32),\n",
       " (405, 3))"
      ]
     },
     "execution_count": 31,
     "metadata": {},
     "output_type": "execute_result"
    }
   ],
   "source": [
    "y_pred,y_pred.shape"
   ]
  },
  {
   "cell_type": "code",
   "execution_count": 32,
   "id": "8faca0c5",
   "metadata": {},
   "outputs": [],
   "source": [
    "predicted_categories = tf.argmax(y_pred,axis=1)"
   ]
  },
  {
   "cell_type": "code",
   "execution_count": 33,
   "id": "b87a7299",
   "metadata": {},
   "outputs": [
    {
     "data": {
      "text/plain": [
       "<tf.Tensor: shape=(405,), dtype=int64, numpy=\n",
       "array([1, 0, 0, 1, 0, 0, 2, 1, 1, 1, 1, 0, 0, 0, 1, 0, 2, 0, 2, 0, 0, 0,\n",
       "       0, 0, 0, 0, 0, 0, 0, 0, 0, 1, 0, 0, 0, 2, 1, 0, 0, 1, 0, 2, 0, 0,\n",
       "       0, 0, 2, 1, 0, 0, 0, 1, 1, 1, 0, 0, 0, 2, 0, 0, 1, 1, 0, 2, 0, 0,\n",
       "       0, 0, 0, 0, 0, 0, 0, 0, 0, 0, 0, 0, 0, 0, 0, 0, 0, 0, 2, 0, 0, 0,\n",
       "       0, 0, 0, 0, 0, 0, 0, 0, 0, 0, 1, 0, 0, 0, 0, 0, 1, 0, 0, 0, 0, 0,\n",
       "       0, 0, 0, 0, 0, 0, 0, 0, 0, 0, 0, 0, 0, 0, 0, 0, 0, 0, 0, 0, 0, 0,\n",
       "       0, 0, 0, 0, 0, 0, 0, 0, 0, 0, 0, 0, 0, 0, 0, 0, 2, 0, 0, 0, 0, 0,\n",
       "       2, 0, 0, 0, 0, 0, 0, 0, 1, 1, 1, 1, 1, 0, 0, 0, 1, 1, 1, 1, 1, 1,\n",
       "       1, 1, 1, 1, 1, 1, 0, 2, 1, 1, 1, 1, 1, 1, 1, 1, 1, 1, 1, 1, 1, 1,\n",
       "       2, 1, 1, 1, 1, 1, 1, 1, 1, 1, 1, 1, 1, 1, 1, 1, 1, 1, 1, 1, 1, 1,\n",
       "       1, 1, 1, 1, 1, 1, 1, 1, 1, 1, 1, 0, 1, 1, 1, 1, 1, 1, 1, 1, 1, 1,\n",
       "       1, 1, 1, 1, 1, 1, 1, 1, 1, 0, 0, 0, 0, 1, 1, 1, 1, 1, 1, 1, 1, 1,\n",
       "       0, 2, 2, 2, 2, 2, 0, 2, 2, 2, 2, 2, 2, 2, 2, 2, 2, 2, 2, 2, 2, 2,\n",
       "       2, 2, 2, 2, 2, 2, 2, 2, 2, 2, 2, 2, 2, 2, 2, 2, 2, 2, 2, 1, 2, 2,\n",
       "       2, 2, 2, 2, 2, 2, 2, 2, 2, 2, 2, 2, 2, 2, 2, 2, 2, 2, 2, 2, 2, 2,\n",
       "       2, 2, 2, 2, 2, 2, 2, 2, 2, 2, 0, 0, 2, 2, 2, 2, 2, 0, 2, 2, 2, 2,\n",
       "       2, 2, 2, 2, 2, 2, 2, 2, 2, 2, 0, 1, 2, 2, 2, 2, 2, 2, 2, 2, 2, 2,\n",
       "       2, 1, 2, 2, 2, 2, 2, 2, 2, 2, 2, 2, 2, 2, 2, 2, 2, 2, 2, 2, 2, 2,\n",
       "       2, 2, 2, 2, 2, 0, 2, 2, 2], dtype=int64)>"
      ]
     },
     "execution_count": 33,
     "metadata": {},
     "output_type": "execute_result"
    }
   ],
   "source": [
    "predicted_categories"
   ]
  },
  {
   "cell_type": "code",
   "execution_count": 34,
   "id": "31a709ad",
   "metadata": {},
   "outputs": [
    {
     "data": {
      "text/plain": [
       "<tf.Tensor: shape=(405, 3), dtype=float32, numpy=\n",
       "array([[1., 0., 0.],\n",
       "       [1., 0., 0.],\n",
       "       [1., 0., 0.],\n",
       "       ...,\n",
       "       [0., 0., 1.],\n",
       "       [0., 0., 1.],\n",
       "       [0., 0., 1.]], dtype=float32)>"
      ]
     },
     "execution_count": 34,
     "metadata": {},
     "output_type": "execute_result"
    }
   ],
   "source": [
    "true_categories = tf.concat([y for x,y in test_set],axis=0)\n",
    "true_categories"
   ]
  },
  {
   "cell_type": "code",
   "execution_count": 35,
   "id": "94e0fa3e",
   "metadata": {},
   "outputs": [
    {
     "data": {
      "text/plain": [
       "<tf.Tensor: shape=(405,), dtype=int64, numpy=\n",
       "array([0, 0, 0, 0, 0, 0, 0, 0, 0, 0, 0, 0, 0, 0, 0, 0, 0, 0, 0, 0, 0, 0,\n",
       "       0, 0, 0, 0, 0, 0, 0, 0, 0, 0, 0, 0, 0, 0, 0, 0, 0, 0, 0, 0, 0, 0,\n",
       "       0, 0, 0, 0, 0, 0, 0, 0, 0, 0, 0, 0, 0, 0, 0, 0, 0, 0, 0, 0, 0, 0,\n",
       "       0, 0, 0, 0, 0, 0, 0, 0, 0, 0, 0, 0, 0, 0, 0, 0, 0, 0, 0, 0, 0, 0,\n",
       "       0, 0, 0, 0, 0, 0, 0, 0, 0, 0, 0, 0, 0, 0, 0, 0, 0, 0, 0, 0, 0, 0,\n",
       "       0, 0, 0, 0, 0, 0, 0, 0, 0, 0, 0, 0, 0, 0, 0, 0, 0, 0, 0, 0, 0, 0,\n",
       "       0, 0, 0, 0, 0, 0, 0, 0, 0, 0, 0, 0, 0, 0, 0, 0, 0, 0, 0, 0, 0, 0,\n",
       "       0, 0, 0, 0, 0, 0, 0, 0, 1, 1, 1, 1, 1, 1, 1, 1, 1, 1, 1, 1, 1, 1,\n",
       "       1, 1, 1, 1, 1, 1, 1, 1, 1, 1, 1, 1, 1, 1, 1, 1, 1, 1, 1, 1, 1, 1,\n",
       "       1, 1, 1, 1, 1, 1, 1, 1, 1, 1, 1, 1, 1, 1, 1, 1, 1, 1, 1, 1, 1, 1,\n",
       "       1, 1, 1, 1, 1, 1, 1, 1, 1, 1, 1, 1, 1, 1, 1, 1, 1, 1, 1, 1, 1, 1,\n",
       "       1, 1, 1, 1, 1, 1, 1, 1, 1, 1, 1, 1, 1, 1, 1, 1, 1, 1, 1, 1, 1, 1,\n",
       "       2, 2, 2, 2, 2, 2, 2, 2, 2, 2, 2, 2, 2, 2, 2, 2, 2, 2, 2, 2, 2, 2,\n",
       "       2, 2, 2, 2, 2, 2, 2, 2, 2, 2, 2, 2, 2, 2, 2, 2, 2, 2, 2, 2, 2, 2,\n",
       "       2, 2, 2, 2, 2, 2, 2, 2, 2, 2, 2, 2, 2, 2, 2, 2, 2, 2, 2, 2, 2, 2,\n",
       "       2, 2, 2, 2, 2, 2, 2, 2, 2, 2, 2, 2, 2, 2, 2, 2, 2, 2, 2, 2, 2, 2,\n",
       "       2, 2, 2, 2, 2, 2, 2, 2, 2, 2, 2, 2, 2, 2, 2, 2, 2, 2, 2, 2, 2, 2,\n",
       "       2, 2, 2, 2, 2, 2, 2, 2, 2, 2, 2, 2, 2, 2, 2, 2, 2, 2, 2, 2, 2, 2,\n",
       "       2, 2, 2, 2, 2, 2, 2, 2, 2], dtype=int64)>"
      ]
     },
     "execution_count": 35,
     "metadata": {},
     "output_type": "execute_result"
    }
   ],
   "source": [
    "y_true = tf.argmax(true_categories,axis=1)\n",
    "y_true"
   ]
  },
  {
   "cell_type": "code",
   "execution_count": 36,
   "id": "5edd9a0f",
   "metadata": {},
   "outputs": [],
   "source": [
    "from sklearn.metrics import classification_report,confusion_matrix"
   ]
  },
  {
   "cell_type": "code",
   "execution_count": 37,
   "id": "055fcd21",
   "metadata": {},
   "outputs": [
    {
     "name": "stdout",
     "output_type": "stream",
     "text": [
      "              precision    recall  f1-score   support\n",
      "\n",
      "Early_Blight       0.89      0.82      0.86       162\n",
      "     Healthy       0.81      0.89      0.85       102\n",
      " Late_Blight       0.91      0.93      0.92       141\n",
      "\n",
      "    accuracy                           0.88       405\n",
      "   macro avg       0.87      0.88      0.88       405\n",
      "weighted avg       0.88      0.88      0.88       405\n",
      "\n"
     ]
    }
   ],
   "source": [
    "print(classification_report(y_true,predicted_categories,target_names=class_name))"
   ]
  },
  {
   "cell_type": "code",
   "execution_count": 38,
   "id": "cb339bb2",
   "metadata": {},
   "outputs": [
    {
     "data": {
      "text/plain": [
       "array([[133,  18,  11],\n",
       "       [  9,  91,   2],\n",
       "       [  7,   3, 131]], dtype=int64)"
      ]
     },
     "execution_count": 38,
     "metadata": {},
     "output_type": "execute_result"
    }
   ],
   "source": [
    "cm = confusion_matrix(y_true,predicted_categories)\n",
    "cm"
   ]
  },
  {
   "cell_type": "markdown",
   "id": "67e780ea",
   "metadata": {},
   "source": [
    "## confusion Matrix Visualization"
   ]
  },
  {
   "cell_type": "code",
   "execution_count": 39,
   "id": "1efe1b5c",
   "metadata": {},
   "outputs": [
    {
     "data": {
      "image/png": "[encoded data removed]",
      "text/plain": [
       "<Figure size 360x360 with 2 Axes>"
      ]
     },
     "metadata": {
      "needs_background": "light"
     },
     "output_type": "display_data"
    }
   ],
   "source": [
    "plt.figure(figsize = (5,5))\n",
    "sns.heatmap(cm,annot=True)\n",
    "plt.xlabel(\"predicted Class\")\n",
    "plt.ylabel(\"Actual class\")\n",
    "plt.show()"
   ]
  }
 ],
 "metadata": {
  "kernelspec": {
   "display_name": "Python 3 (ipykernel)",
   "language": "python",
   "name": "python3"
  },
  "language_info": {
   "codemirror_mode": {
    "name": "ipython",
    "version": 3
   },
   "file_extension": ".py",
   "mimetype": "text/x-python",
   "name": "python",
   "nbconvert_exporter": "python",
   "pygments_lexer": "ipython3",
   "version": "3.9.12"
  }
 },
 "nbformat": 4,
 "nbformat_minor": 5
}
